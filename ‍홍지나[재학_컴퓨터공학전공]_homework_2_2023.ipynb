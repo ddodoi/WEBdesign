{
  "cells": [
    {
      "cell_type": "markdown",
      "metadata": {
        "id": "view-in-github",
        "colab_type": "text"
      },
      "source": [
        "<a href=\"https://colab.research.google.com/github/ddodoi/WEBdesign/blob/master/%E2%80%8D%ED%99%8D%EC%A7%80%EB%82%98%5B%EC%9E%AC%ED%95%99_%EC%BB%B4%ED%93%A8%ED%84%B0%EA%B3%B5%ED%95%99%EC%A0%84%EA%B3%B5%5D_homework_2_2023.ipynb\" target=\"_parent\"><img src=\"https://colab.research.google.com/assets/colab-badge.svg\" alt=\"Open In Colab\"/></a>"
      ]
    },
    {
      "cell_type": "markdown",
      "metadata": {
        "id": "lqO-YTqe4Kxz"
      },
      "source": [
        "# Homework 2. Numpy and matplotlib"
      ]
    },
    {
      "cell_type": "markdown",
      "metadata": {
        "id": "5wHCpG-D4Kx2"
      },
      "source": [
        "***Double Click here to edit this cell***\n",
        "\n",
        "- Name: 홍지나\n",
        "- Student ID: 202103739\n",
        "- Submission date: 2023/04/07\n"
      ]
    },
    {
      "cell_type": "markdown",
      "metadata": {
        "id": "fvViicS14Kx2"
      },
      "source": [
        "## Remark. If any kind of loops including for-loop, while-loops, list comprehension, and other loops are found, you get no points (0점). \n",
        "\n",
        "## Use numpy wherever it is possible. \n"
      ]
    },
    {
      "cell_type": "markdown",
      "metadata": {
        "id": "raIgP6-e4Kx2"
      },
      "source": [
        "## Total: 65 pts"
      ]
    },
    {
      "cell_type": "markdown",
      "metadata": {
        "id": "Fx3EIuTQ4Kx2"
      },
      "source": [
        "## Problem 1 (5 pts)\n",
        "\n",
        "- The centroid of a finite set of $\\displaystyle {k}$ points $\\displaystyle \\mathbf {x} _{1},\\mathbf {x} _{2},\\ldots ,\\mathbf {x} _{k}$ in $\\displaystyle \\mathbb {R} ^{n}$ is\n",
        "$$\n",
        "\\mathbf {C} ={\\frac {\\mathbf {x} _{1}+\\mathbf {x} _{2}+\\cdots +\\mathbf {x} _{k}}{k}}\n",
        "$$\n",
        "\n",
        "- This point minimizes the sum of squared Euclidean distances between itself and each point in the set.\n",
        "- Compute centroid\n",
        "- Plot dataset and centroid "
      ]
    },
    {
      "cell_type": "code",
      "execution_count": null,
      "metadata": {
        "hide_input": false,
        "id": "mlYJSAHa4Kx3"
      },
      "outputs": [],
      "source": [
        "%matplotlib inline\n",
        "\n",
        "import matplotlib.pyplot as plt\n",
        "import numpy as np\n",
        "\n",
        "def plot_centroid(data):\n",
        "    \n",
        "# YOUR CODE MUST BE HERE"
      ]
    },
    {
      "cell_type": "code",
      "execution_count": null,
      "metadata": {
        "id": "V2rtXmXR4Kx3"
      },
      "outputs": [],
      "source": [
        "# DO NOT EDIT THIS CELL\n",
        "np.random.seed(0)\n",
        "data = np.random.randn(10,2)\n",
        "plot_centroid(data)"
      ]
    },
    {
      "cell_type": "markdown",
      "metadata": {
        "id": "mNsfGDS14Kx4"
      },
      "source": [
        "**You output must be:**\n",
        "\n",
        "![image.png](attachment:image.png)"
      ]
    },
    {
      "cell_type": "markdown",
      "metadata": {
        "id": "iFVmrCIi4Kx4"
      },
      "source": [
        "## Problem 2 (10 pts)\n",
        "\n",
        "- Let $\\textstyle x_{1},x_{2},\\cdots ,x_{n}$ be a set of $\\textstyle n$ points in a space with a distance function $d$. \n",
        "- Medoid is defined as\n",
        "$$\n",
        "x_{\\text{medoid}} = \\text{argmin}_{y \\in \\{x_1, x_2, \\cdots, x_n\\}} \\sum_{i=1}^{n}d(y, x_i)\n",
        "$$\n",
        "- Compute medoid using Euclidean distance as a distance function.\n",
        "- Plot dataset and medoid\n",
        "- *Do not use sklearn, scipy or any module computing distance matrix directly*\n",
        "- Use numpy functions only"
      ]
    },
    {
      "cell_type": "code",
      "execution_count": null,
      "metadata": {
        "id": "ls2loSvH4Kx4"
      },
      "outputs": [],
      "source": [
        "%matplotlib inline\n",
        "\n",
        "import matplotlib.pyplot as plt\n",
        "import numpy as np\n",
        "\n",
        "def plot_medoid(data):\n",
        "    \n",
        "# YOUR CODE MUST BE HERE"
      ]
    },
    {
      "cell_type": "code",
      "execution_count": null,
      "metadata": {
        "id": "XYidPTH34Kx4"
      },
      "outputs": [],
      "source": [
        "# DO NOT EDIT THIS CELL\n",
        "np.random.seed(0)\n",
        "data = np.random.randn(10,2)\n",
        "plot_medoid(data)"
      ]
    },
    {
      "cell_type": "markdown",
      "metadata": {
        "id": "HoFf3FgU4Kx4"
      },
      "source": [
        "**You output must be:**\n",
        "\n",
        "![image.png](attachment:image.png)"
      ]
    },
    {
      "cell_type": "markdown",
      "metadata": {
        "id": "I4hhY5Oi4Kx5"
      },
      "source": [
        "## Sample code"
      ]
    },
    {
      "cell_type": "code",
      "execution_count": null,
      "metadata": {
        "id": "ovPssMz74Kx5",
        "outputId": "8d1387b8-050a-4c29-abec-2ad3caf7e190"
      },
      "outputs": [
        {
          "data": {
            "image/png": "[encoded data removed]",
            "text/plain": [
              "<Figure size 432x288 with 1 Axes>"
            ]
          },
          "metadata": {
            "needs_background": "light"
          },
          "output_type": "display_data"
        }
      ],
      "source": [
        "%matplotlib inline\n",
        "\n",
        "import matplotlib.pyplot as plt\n",
        "import numpy as np\n",
        "\n",
        "def sample_code():\n",
        "    x = np.arange(10)\n",
        "    y = np.arange(10)\n",
        "    center = (0, 0)\n",
        "    radius = 10\n",
        "    plt.scatter(x, y)\n",
        "    ax = plt.gca()\n",
        "    ax.add_patch(plt.Circle(center, radius, color='r', alpha=0.2))\n",
        "    plt.axis('equal')\n",
        "    plt.show()\n",
        "    \n",
        "sample_code()"
      ]
    },
    {
      "cell_type": "markdown",
      "metadata": {
        "id": "kk0yqu4Y4Kx5"
      },
      "source": [
        "## Problem 3 (5 pts)\n",
        "\n",
        "- We want to draw a scatter plot using **data**\n",
        "- Plot the center using a green square symbol\n",
        "- Plot points inside **radius** from center using red dots\n",
        "- Plot points out of the **radius** from center using 'C0' colored dots\n",
        "- Draw a filled circle centered at **center** using red color and alpha=0.2"
      ]
    },
    {
      "cell_type": "code",
      "execution_count": null,
      "metadata": {
        "id": "rIOTV2Ad4Kx5"
      },
      "outputs": [],
      "source": [
        "%matplotlib inline\n",
        "\n",
        "import matplotlib.pyplot as plt\n",
        "import numpy as np\n",
        "\n",
        "def points_within_radius(data, center, radius):\n",
        "\n",
        "# YOUR CODE MUST BE HERE"
      ]
    },
    {
      "cell_type": "code",
      "execution_count": null,
      "metadata": {
        "id": "4swneh_A4Kx6"
      },
      "outputs": [],
      "source": [
        "# DO NOT EDIT THIS CELL\n",
        "np.random.seed(1)\n",
        "data = np.random.randn(10,2)\n",
        "radius = 3.0\n",
        "center = np.random.randn(2)\n",
        "points_within_radius(data, center, radius)"
      ]
    },
    {
      "cell_type": "markdown",
      "metadata": {
        "id": "RII8t5EY4Kx6"
      },
      "source": [
        "**You output must be:**\n",
        "\n",
        "![image.png](attachment:image.png)"
      ]
    },
    {
      "cell_type": "markdown",
      "metadata": {
        "id": "Ar71Nrou4Kx6"
      },
      "source": [
        "## Problem 4 (10 pts)\n",
        "\n",
        "- We want to find k nearest points from the center\n",
        "- Plot the center using a green square symbol\n",
        "- Plot k-nearest points from center using red dots\n",
        "- Plot other points using 'C0' colored dots\n",
        "- Draw a filled circle centered at **center** using red color and alpha=0.2\n",
        "- *Do not use sklearn, scipy or any module computing k-nearest points directly*\n",
        "- Use numpy functions only"
      ]
    },
    {
      "cell_type": "code",
      "execution_count": null,
      "metadata": {
        "id": "XFjEEoKZ4Kx6"
      },
      "outputs": [],
      "source": [
        "%matplotlib inline\n",
        "\n",
        "import matplotlib.pyplot as plt\n",
        "import numpy as np\n",
        "\n",
        "def points_k_nearest(data, center, k=1):\n",
        "    \n",
        "# YOUR CODE MUST BE HERE"
      ]
    },
    {
      "cell_type": "code",
      "execution_count": null,
      "metadata": {
        "id": "9ZX0ybgr4Kx6"
      },
      "outputs": [],
      "source": [
        "# DO NOT EDIT THIS CELL\n",
        "np.random.seed(1)\n",
        "data = np.random.randn(10,2)\n",
        "k = 5\n",
        "center = np.random.randn(2)\n",
        "points_k_nearest(data, center, k)"
      ]
    },
    {
      "cell_type": "markdown",
      "metadata": {
        "id": "oKODlr3d4Kx6"
      },
      "source": [
        "**You output must be:**\n",
        "\n",
        "![image.png](attachment:image.png)"
      ]
    },
    {
      "cell_type": "code",
      "execution_count": null,
      "metadata": {
        "id": "hkzo-b0h4Kx6"
      },
      "outputs": [],
      "source": [
        "# DO NOT EDIT THIS CELL\n",
        "np.random.seed(1)\n",
        "data = np.array([[1.,0.],[0.,1.],[-1.,0.],[0.,-1.],[1.,1.],[1.,-1.],[-1.,1.],[-1.,-1.]])\n",
        "np.random.shuffle(data)\n",
        "k = 1\n",
        "center = np.array([0.,0.])\n",
        "points_k_nearest(data, center, k)"
      ]
    },
    {
      "cell_type": "markdown",
      "metadata": {
        "id": "mupCZtTj4Kx6"
      },
      "source": [
        "**You output must be:**\n",
        "\n",
        "![image.png](attachment:image.png)"
      ]
    },
    {
      "cell_type": "markdown",
      "metadata": {
        "id": "qa6xr6-j4Kx7"
      },
      "source": [
        "## Problem 5 (15 pts)\n",
        "\n",
        "- **find_k_nearest_index** returns the index of the k-nearest\n",
        "- We want to time the execution\n",
        "- *Do not use sklearn, scipy or any module computing k-nearest points directly*\n",
        "- Use numpy functions only"
      ]
    },
    {
      "cell_type": "code",
      "execution_count": null,
      "metadata": {
        "id": "eg9I10md4Kx7"
      },
      "outputs": [],
      "source": [
        "import numpy as np\n",
        "\n",
        "def find_k_nearest_index(data, center, k=1):\n",
        "\n",
        "# YOUR CODE MUST BE HERE"
      ]
    },
    {
      "cell_type": "code",
      "execution_count": null,
      "metadata": {
        "id": "-zN2NoXG4Kx7"
      },
      "outputs": [],
      "source": [
        "# DO NOT EDIT THIS CELL\n",
        "\n",
        "np.random.seed(0)\n",
        "data = np.array([[1.,0.],[0.,1.],[-1.,0.],[0.,-1.],[1.,1.],[1.,-1.],[-1.,1.],[-1.,-1.]])\n",
        "np.random.shuffle(data)\n",
        "k = 1\n",
        "center = np.array([0.,0.])\n",
        "print(find_k_nearest_index(data, center, k))"
      ]
    },
    {
      "cell_type": "markdown",
      "metadata": {
        "id": "wAL4Pbdp4Kx7"
      },
      "source": [
        "**You output must be:**\n",
        "```\n",
        "[1 2 4 5]\n",
        "```"
      ]
    },
    {
      "cell_type": "code",
      "execution_count": null,
      "metadata": {
        "id": "1TQOHEsy4Kx7"
      },
      "outputs": [],
      "source": [
        "# DO NOT EDIT THIS CELL\n",
        "\n",
        "import time\n",
        "\n",
        "np.random.seed(100)\n",
        "data = np.random.randn(10000000,20)   # 10 million data\n",
        "k = 5\n",
        "center = np.random.randn(20)\n",
        "start = time.time()\n",
        "print(find_k_nearest_index(data, center, k))\n",
        "end = time.time()\n",
        "\n",
        "lapse = end - start\n",
        "total = 15\n",
        "weight = 1.5\n",
        "grace = 3.0\n",
        "my_point = int(total / (weight ** (lapse // grace)))\n",
        "print(f'Total time taken : {lapse} seconds')\n",
        "print(f'My point is {my_point}')"
      ]
    },
    {
      "cell_type": "markdown",
      "metadata": {
        "id": "-0t9dvh24Kx7"
      },
      "source": [
        "**You output must be:**\n",
        "```\n",
        "[1664998 3042821 3307688 3848441 5351099]\n",
        "```\n",
        "**Your time must be around:**\n",
        "```\n",
        "[1664998 3042821 3307688 3848441 5351099]\n",
        "Total time taken : 1.2571053504943848 seconds\n",
        "My point is 15\n",
        "```"
      ]
    },
    {
      "cell_type": "markdown",
      "metadata": {
        "id": "eZ5Fl7p84Kx7"
      },
      "source": [
        "## Problem 6 (20 pts)\n",
        "\n",
        "- **find_k_nearest_index_big** returns the index of the k-nearest for 50 million data\n",
        "- We want to time the execution\n",
        "- *Do not use sklearn, scipy or any module computing k-nearest points directly*\n",
        "- Use numpy functions only"
      ]
    },
    {
      "cell_type": "code",
      "execution_count": null,
      "metadata": {
        "id": "WFrEwVbi4Kx7"
      },
      "outputs": [],
      "source": [
        "import numpy as np\n",
        "\n",
        "def find_k_nearest_index_big(data, center, k=1):\n",
        "\n",
        "# YOUR CODE MUST BE HERE"
      ]
    },
    {
      "cell_type": "code",
      "execution_count": null,
      "metadata": {
        "id": "t41fEPr-4Kx7"
      },
      "outputs": [],
      "source": [
        "# DO NOT EDIT THIS CELL\n",
        "\n",
        "import time\n",
        "\n",
        "np.random.seed(100)\n",
        "data = np.random.randn(20000000,20)   # 20 million data\n",
        "k = 5\n",
        "center = np.random.randn(20)\n",
        "start = time.time()\n",
        "print(find_k_nearest_index_big(data, center, k))\n",
        "end = time.time()\n",
        "\n",
        "lapse = end - start\n",
        "total = 5\n",
        "weight = 1.5\n",
        "grace = 10\n",
        "my_point = int(total / (weight ** (lapse // grace)))\n",
        "print(f'Total time taken : {lapse} seconds')\n",
        "print(f'My point is {my_point}')"
      ]
    },
    {
      "cell_type": "markdown",
      "metadata": {
        "id": "XXpRhaUy4Kx7"
      },
      "source": [
        "**Your time must be around:**\n",
        "```\n",
        "[ _____________________________________________ ]\n",
        "Total time taken : 3.840811252593994 seconds\n",
        "My point is 5\n",
        "```"
      ]
    },
    {
      "cell_type": "code",
      "execution_count": null,
      "metadata": {
        "id": "oRI3bmXd4Kx8"
      },
      "outputs": [],
      "source": [
        "# DO NOT EDIT THIS CELL\n",
        "\n",
        "import time\n",
        "\n",
        "np.random.seed(100)\n",
        "data = np.random.randn(30000000,20)   # 30 million data\n",
        "k = 5\n",
        "center = np.random.randn(20)\n",
        "start = time.time()\n",
        "print(find_k_nearest_index_big(data, center, k))\n",
        "end = time.time()\n",
        "\n",
        "lapse = end - start\n",
        "total = 5\n",
        "weight = 1.5\n",
        "grace = 300\n",
        "my_point = int(total / (weight ** (lapse // grace)))\n",
        "print(f'Total time taken : {lapse} seconds')\n",
        "print(f'My point is {my_point}')"
      ]
    },
    {
      "cell_type": "markdown",
      "metadata": {
        "id": "00vIl5To4Kx8"
      },
      "source": [
        "**Your time must be around:**\n",
        "```\n",
        "[ _____________________________________________ ]\n",
        "Total time taken : 81.23930025100708 seconds\n",
        "My point is 5\n",
        "```"
      ]
    },
    {
      "cell_type": "code",
      "execution_count": null,
      "metadata": {
        "id": "7a4ew33Z4Kx8"
      },
      "outputs": [],
      "source": [
        "# DO NOT EDIT THIS CELL\n",
        "\n",
        "import time\n",
        "\n",
        "np.random.seed(100)\n",
        "data = np.random.randn(50000000,20)   # 50 million data\n",
        "k = 5\n",
        "center = np.random.randn(20)\n",
        "start = time.time()\n",
        "print(find_k_nearest_index_big(data, center, k))\n",
        "end = time.time()\n",
        "\n",
        "lapse = end - start\n",
        "total = 10\n",
        "weight = 1.5\n",
        "grace = 500\n",
        "my_point = int(total / (weight ** (lapse // grace)))\n",
        "print(f'Total time taken : {lapse} seconds')\n",
        "print(f'My point is {my_point}')"
      ]
    },
    {
      "cell_type": "markdown",
      "metadata": {
        "id": "dd17gytL4Kx8"
      },
      "source": [
        "**Your time must be around:**\n",
        "```\n",
        "[ _____________________________________________ ]\n",
        "Total time taken : 195.7096507549286 seconds\n",
        "My point is 10\n",
        "```"
      ]
    },
    {
      "cell_type": "markdown",
      "metadata": {
        "id": "hV2hZQAU4Kx8"
      },
      "source": [
        "## Ethics:\n",
        "If you cheat, you will get negatgive of the total points.\n",
        "If the homework total is 22 and you cheat, you get -22."
      ]
    },
    {
      "cell_type": "markdown",
      "metadata": {
        "id": "OqOqckki4Kx8"
      },
      "source": [
        "## What to submit\n",
        "\n",
        "- Run **all cells** after restarting the kernel\n",
        "- Goto \"File -> Print Preview\"\n",
        "- Print the page as pdf\n",
        "- Submit the pdf file in google classroom\n",
        "- Pdf file name must be in a form of: homework_2_홍길동_202300001.pdf\n",
        "- No late homeworks will be accepted\n",
        "- Your homework will be graded on the basis of correctness, performance, and programming skills"
      ]
    }
  ],
  "metadata": {
    "hide_input": false,
    "kernelspec": {
      "display_name": "Python 3",
      "language": "python",
      "name": "python3"
    },
    "language_info": {
      "codemirror_mode": {
        "name": "ipython",
        "version": 3
      },
      "file_extension": ".py",
      "mimetype": "text/x-python",
      "name": "python",
      "nbconvert_exporter": "python",
      "pygments_lexer": "ipython3",
      "version": "3.7.3"
    },
    "varInspector": {
      "cols": {
        "lenName": 16,
        "lenType": 16,
        "lenVar": 40
      },
      "kernels_config": {
        "python": {
          "delete_cmd_postfix": "",
          "delete_cmd_prefix": "del ",
          "library": "var_list.py",
          "varRefreshCmd": "print(var_dic_list())"
        },
        "r": {
          "delete_cmd_postfix": ") ",
          "delete_cmd_prefix": "rm(",
          "library": "var_list.r",
          "varRefreshCmd": "cat(var_dic_list()) "
        }
      },
      "types_to_exclude": [
        "module",
        "function",
        "builtin_function_or_method",
        "instance",
        "_Feature"
      ],
      "window_display": false
    },
    "colab": {
      "provenance": [],
      "include_colab_link": true
    }
  },
  "nbformat": 4,
  "nbformat_minor": 0
}